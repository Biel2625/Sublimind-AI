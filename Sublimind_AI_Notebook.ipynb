{
 "cells": [
  {
   "cell_type": "markdown",
   "id": "872077fa",
   "metadata": {},
   "source": [
    "# Sublimind AI - Áudio Subliminar Automático (RunPod)\n",
    "\n",
    "Use esta interface para gerar áudios subliminares personalizados sem usar o terminal."
   ]
  },
  {
   "cell_type": "markdown",
   "id": "16db797c",
   "metadata": {},
   "source": [
    "## 🔊 Passo 1: Digite suas afirmações abaixo"
   ]
  },
  {
   "cell_type": "code",
   "execution_count": null,
   "id": "1c25f02a",
   "metadata": {},
   "outputs": [],
   "source": [
    "afirmacoes = \"\"\"\n",
    "Eu sou calmo e confiante.\n",
    "Minha mente atrai prosperidade.\n",
    "Eu tenho foco total nas minhas metas.\n",
    "\"\"\""
   ]
  },
  {
   "cell_type": "markdown",
   "id": "600e3e45",
   "metadata": {},
   "source": [
    "## 🔊 Passo 2: Faça upload do seu áudio de fundo (Altas Frequências)"
   ]
  },
  {
   "cell_type": "code",
   "execution_count": null,
   "id": "347a1209",
   "metadata": {},
   "outputs": [],
   "source": [
    "import shutil\n",
    "import os\n",
    "\n",
    "# Verifica se a pasta audio_fundo existe\n",
    "os.makedirs(\"audio_fundo\", exist_ok=True)\n",
    "\n",
    "# Upload\n",
    "from google.colab import files\n",
    "uploaded = files.upload()\n",
    "\n",
    "# Mover o arquivo para a pasta correta\n",
    "for filename in uploaded.keys():\n",
    "    shutil.move(filename, os.path.join(\"audio_fundo\", \"audio_fundo.mp3\"))\n",
    "\n",
    "print(\"Áudio de fundo salvo em 'audio_fundo/audio_fundo.mp3'\")"
   ]
  },
  {
   "cell_type": "markdown",
   "id": "84fd7577",
   "metadata": {},
   "source": [
    "## ▶️ Passo 3: Gerar o áudio subliminar"
   ]
  },
  {
   "cell_type": "code",
   "execution_count": null,
   "id": "73ff8575",
   "metadata": {},
   "outputs": [],
   "source": [
    "\n",
    "from bark import generate_audio, SAMPLE_RATE, preload_models\n",
    "from pydub import AudioSegment\n",
    "import soundfile as sf\n",
    "\n",
    "# Preparar diretórios\n",
    "os.makedirs(\"saida\", exist_ok=True)\n",
    "\n",
    "# Salvar as afirmações no arquivo frases.txt\n",
    "with open(\"frases.txt\", \"w\") as f:\n",
    "    f.write(afirmacoes)\n",
    "\n",
    "# Carregar Bark\n",
    "preload_models()\n",
    "\n",
    "# Gerar a voz com Bark\n",
    "audio_array = generate_audio(afirmacoes)\n",
    "sf.write(\"voz_bark.wav\", audio_array, SAMPLE_RATE)\n",
    "\n",
    "# Carregar o áudio de fundo\n",
    "fundo = AudioSegment.from_file(\"audio_fundo/audio_fundo.mp3\")\n",
    "voz = AudioSegment.from_file(\"voz_bark.wav\")\n",
    "\n",
    "# Reduzir o volume da voz\n",
    "voz_subliminar = voz - 25\n",
    "\n",
    "# Mesclar o áudio\n",
    "audio_final = fundo.overlay(voz_subliminar)\n",
    "\n",
    "# Salvar o áudio final\n",
    "output_path = \"saida/subliminar_final.wav\"\n",
    "audio_final.export(output_path, format=\"wav\")\n",
    "\n",
    "print(f\"Áudio subliminar gerado: {output_path}\")\n"
   ]
  },
  {
   "cell_type": "markdown",
   "id": "f338ccbb",
   "metadata": {},
   "source": [
    "## 📥 Passo 4: Baixar o áudio subliminar gerado"
   ]
  },
  {
   "cell_type": "code",
   "execution_count": null,
   "id": "0a48477b",
   "metadata": {},
   "outputs": [],
   "source": [
    "\n",
    "from google.colab import files\n",
    "files.download(\"saida/subliminar_final.wav\")\n"
   ]
  }
 ],
 "metadata": {},
 "nbformat": 4,
 "nbformat_minor": 5
}
